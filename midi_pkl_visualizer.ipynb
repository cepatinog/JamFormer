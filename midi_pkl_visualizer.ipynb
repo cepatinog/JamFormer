{
 "cells": [
  {
   "cell_type": "code",
   "execution_count": 1,
   "metadata": {},
   "outputs": [],
   "source": [
    "import pretty_midi\n",
    "import pickle\n",
    "import numpy as np\n",
    "import matplotlib.pyplot as plt\n",
    "import os\n"
   ]
  },
  {
   "cell_type": "code",
   "execution_count": 2,
   "metadata": {},
   "outputs": [],
   "source": [
    "# === 1. Visualizar archivos MIDI ===\n",
    "def plot_piano_roll(midi_file):\n",
    "    pm = pretty_midi.PrettyMIDI(midi_file)\n",
    "    plt.figure(figsize=(12, 6))\n",
    "\n",
    "    colors = ['red', 'blue', 'green', 'purple', 'orange']  # diferentes colores para cada pista\n",
    "\n",
    "    for i, instrument in enumerate(pm.instruments):\n",
    "        pitches = []\n",
    "        start_times = []\n",
    "        end_times = []\n",
    "\n",
    "        for note in instrument.notes:\n",
    "            pitches.append(note.pitch)\n",
    "            start_times.append(note.start)\n",
    "            end_times.append(note.end)\n",
    "\n",
    "        color = colors[i % len(colors)]\n",
    "        plt.hlines(pitches, start_times, end_times, label=f'Pista {i}: {instrument.name}', colors=color)\n",
    "\n",
    "    plt.xlabel(\"Tiempo (s)\")\n",
    "    plt.ylabel(\"Pitch MIDI\")\n",
    "    plt.title(\"Piano Roll del MIDI\")\n",
    "    plt.legend()\n",
    "    plt.show()"
   ]
  },
  {
   "cell_type": "code",
   "execution_count": 3,
   "metadata": {},
   "outputs": [],
   "source": [
    "# === 2. Inspeccionar archivos MIDI ===\n",
    "def inspect_midi(midi_file):\n",
    "    pm = pretty_midi.PrettyMIDI(midi_file)\n",
    "    print(f\"Archivo: {midi_file}\")\n",
    "    for i, instrument in enumerate(pm.instruments):\n",
    "        print(f\"\\nPista {i}: {instrument.name}, Notas: {len(instrument.notes)}\")\n",
    "        print(\"Primeras 10 notas:\")\n",
    "        for note in instrument.notes[:10]:\n",
    "            print(f\"  Pitch: {note.pitch}, Start: {note.start:.2f}, End: {note.end:.2f}\")\n"
   ]
  },
  {
   "cell_type": "code",
   "execution_count": 4,
   "metadata": {},
   "outputs": [],
   "source": [
    "# === 3. Visualizar archivos .pkl ===\n",
    "def load_pkl(pkl_file):\n",
    "    with open(pkl_file, \"rb\") as f:\n",
    "        data = pickle.load(f)\n",
    "    print(\"\\nEstructura del archivo .pkl:\", data.keys())\n",
    "\n",
    "    print(\"\\nPitch Data (Melodía):\", data[\"pitch\"].shape, \"\\n\", data[\"pitch\"])\n",
    "    print(\"\\nRhythm Data:\", data[\"rhythm\"].shape, \"\\n\", data[\"rhythm\"])\n",
    "    print(\"\\nChord Data:\", data[\"chord\"].shape, \"\\n\", np.array(data[\"chord\"].todense()))\n",
    "\n",
    "\n",
    "    # Reconstruir una matriz piano roll a partir del vector de pitch\n",
    "    num_pitches = 100 # o el valor de model_config[\"num_pitch\"]\n",
    "    time_steps = len(data[\"pitch\"])\n",
    "    piano_roll = np.zeros((num_pitches, time_steps))\n",
    "\n",
    "    for t, p in enumerate(data[\"pitch\"]):\n",
    "        if p < num_pitches:  # ignorar silencios y símbolos especiales si los hay\n",
    "            piano_roll[p, t] = 1\n",
    "\n",
    "    plt.figure(figsize=(10, 5))\n",
    "    plt.imshow(piano_roll, aspect=\"auto\", cmap=\"gray_r\", origin=\"lower\")\n",
    "    plt.title(\"Piano Roll de la Melodía (Desde .pkl)\")\n",
    "    plt.xlabel(\"Tiempo\")\n",
    "    plt.ylabel(\"Pitch\")\n",
    "    plt.colorbar()\n",
    "    plt.show()\n",
    "\n",
    "    plt.figure(figsize=(10, 2))\n",
    "    plt.imshow(np.array(data[\"chord\"].todense()).T, aspect=\"auto\", cmap=\"coolwarm\", origin=\"lower\")\n",
    "    plt.title(\"Acordes (Desde .pkl)\")\n",
    "    plt.xlabel(\"Tiempo\")\n",
    "    plt.ylabel(\"Pitch\")\n",
    "    plt.colorbar()\n",
    "    plt.show()"
   ]
  },
  {
   "cell_type": "code",
   "execution_count": 5,
   "metadata": {},
   "outputs": [],
   "source": [
    "# === 4. Usar las funciones con tus archivos ===\n",
    "# Especifica un archivo MIDI y un archivo .pkl para analizar\n",
    "midi_file = \"/home/cepatinog/smc-assignments/final_project/CMT-pytorch/data/midi_files/WjazzD/swapped/CharlieParker_DonnaLee_FINAL.mid/CharlieParker_DonnaLee_FINAL.mid\"  # Cambia esto por un archivo real\n",
    "#pkl_file = \"data/pkl_files/instance_pkl_8bars_fpb16_48p_12keys/eval/CharlieParker_DonnaLee_FINAL.mid/CharlieParker_DonnaLee_FINAL.mid_00_+0_00.pkl\"  # Cambia esto por un archivo real\n"
   ]
  },
  {
   "cell_type": "code",
   "execution_count": 6,
   "metadata": {},
   "outputs": [
    {
     "name": "stdout",
     "output_type": "stream",
     "text": [
      "Archivo: /home/cepatinog/smc-assignments/final_project/CMT-pytorch/data/midi_files/WjazzD/swapped/CharlieParker_DonnaLee_FINAL.mid/CharlieParker_DonnaLee_FINAL.mid\n",
      "\n",
      "Pista 0: , Notas: 371\n",
      "Primeras 10 notas:\n",
      "  Pitch: 63, Start: 0.66, End: 0.80\n",
      "  Pitch: 65, Start: 0.80, End: 1.06\n",
      "  Pitch: 68, Start: 1.06, End: 1.24\n",
      "  Pitch: 67, Start: 1.24, End: 1.33\n",
      "  Pitch: 65, Start: 1.33, End: 1.46\n",
      "  Pitch: 64, Start: 1.46, End: 1.59\n",
      "  Pitch: 63, Start: 1.59, End: 1.73\n",
      "  Pitch: 61, Start: 1.73, End: 1.99\n",
      "  Pitch: 61, Start: 1.99, End: 2.06\n",
      "  Pitch: 63, Start: 2.06, End: 2.26\n",
      "\n",
      "Pista 1: , Notas: 236\n",
      "Primeras 10 notas:\n",
      "  Pitch: 68, Start: 2.12, End: 3.19\n",
      "  Pitch: 72, Start: 2.12, End: 3.19\n",
      "  Pitch: 75, Start: 2.12, End: 3.19\n",
      "  Pitch: 65, Start: 3.19, End: 4.25\n",
      "  Pitch: 69, Start: 3.19, End: 4.25\n",
      "  Pitch: 72, Start: 3.19, End: 4.25\n",
      "  Pitch: 75, Start: 3.19, End: 4.25\n",
      "  Pitch: 70, Start: 4.25, End: 5.31\n",
      "  Pitch: 74, Start: 4.25, End: 5.31\n",
      "  Pitch: 77, Start: 4.25, End: 5.31\n"
     ]
    },
    {
     "data": {
      "image/png": "[encoded data removed]",
      "text/plain": [
       "<Figure size 1200x600 with 1 Axes>"
      ]
     },
     "metadata": {},
     "output_type": "display_data"
    }
   ],
   "source": [
    "# Inspeccionar y visualizar el MIDI\n",
    "inspect_midi(midi_file)\n",
    "plot_piano_roll(midi_file)\n"
   ]
  },
  {
   "cell_type": "code",
   "execution_count": null,
   "metadata": {},
   "outputs": [],
   "source": [
    "# Cargar y visualizar el .pkl\n",
    "load_pkl(pkl_file)"
   ]
  }
 ],
 "metadata": {
  "kernelspec": {
   "display_name": "cmt_env",
   "language": "python",
   "name": "python3"
  },
  "language_info": {
   "codemirror_mode": {
    "name": "ipython",
    "version": 3
   },
   "file_extension": ".py",
   "mimetype": "text/x-python",
   "name": "python",
   "nbconvert_exporter": "python",
   "pygments_lexer": "ipython3",
   "version": "3.10.16"
  }
 },
 "nbformat": 4,
 "nbformat_minor": 2
}
