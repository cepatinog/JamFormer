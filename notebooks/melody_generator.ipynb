{
 "cells": [
  {
   "cell_type": "markdown",
   "metadata": {},
   "source": [
    "\"\"\"\n",
    "# 🎵 Generación de Melodías Condicionadas por Acordes (CMT Transformer)\n",
    "Este notebook guía el proceso de generación de melodías nuevas a partir de acordes, usando el modelo CMT entrenado.\n",
    "\n",
    "Pasos:\n",
    "1️⃣ Cargar un `.pkl` de referencia\n",
    "2️⃣ Modificar la progresión de acordes\n",
    "3️⃣ Convertir datos a tensores\n",
    "4️⃣ Realizar la inferencia\n",
    "5️⃣ Convertir la salida a MIDI y escuchar la melodía\n",
    "\"\"\""
   ]
  },
  {
   "cell_type": "code",
   "execution_count": 1,
   "metadata": {},
   "outputs": [],
   "source": [
    "import pickle\n",
    "import numpy as np\n",
    "import torch\n",
    "import pretty_midi\n",
    "import matplotlib.pyplot as plt\n",
    "import sys\n",
    "sys.path.append(\"../src\")  # Ajusta el path según la ubicación del notebook\n",
    "from model import ChordConditionedMelodyTransformer  # ✅ Asegúrate de que el path sea correcto\n"
   ]
  },
  {
   "cell_type": "code",
   "execution_count": 2,
   "metadata": {},
   "outputs": [],
   "source": [
    "\n",
    "# 📂 Ruta del archivo .pkl de referencia\n",
    "PKL_PATH = \"/home/cepatinog/smc-assignments/final_project/my_jazz_project/data/pkl_files/instance_pkl_8bars_fpb16_48p_12keys/eval/CharlieParker_DonnaLee_FINAL.mid/CharlieParker_DonnaLee_FINAL.mid_00_+0_00.pkl\"  # Cambia esto a un archivo válido"
   ]
  },
  {
   "cell_type": "code",
   "execution_count": 3,
   "metadata": {},
   "outputs": [
    {
     "name": "stdout",
     "output_type": "stream",
     "text": [
      "✅ .pkl cargado correctamente con las claves: dict_keys(['pitch', 'rhythm', 'chord'])\n"
     ]
    }
   ],
   "source": [
    "# 📌 1️⃣ Cargar el archivo .pkl\n",
    "with open(PKL_PATH, \"rb\") as f:\n",
    "    data = pickle.load(f)\n",
    "    print(\"✅ .pkl cargado correctamente con las claves:\", data.keys())\n",
    "\n"
   ]
  },
  {
   "cell_type": "code",
   "execution_count": 4,
   "metadata": {},
   "outputs": [
    {
     "name": "stdout",
     "output_type": "stream",
     "text": [
      "🎶 Nueva progresión de acordes aplicada al .pkl\n"
     ]
    },
    {
     "name": "stderr",
     "output_type": "stream",
     "text": [
      "/home/cepatinog/miniconda3/envs/cmt_env/lib/python3.10/site-packages/scipy/sparse/_index.py:210: SparseEfficiencyWarning: Changing the sparsity structure of a csc_matrix is expensive. lil and dok are more efficient.\n",
      "  self._set_arrayXarray(i, j, x)\n"
     ]
    }
   ],
   "source": [
    "# 🔄 2️⃣ Modificar la progresión de acordes\n",
    "new_chord_progression = np.array([\n",
    "    [1, 0, 0, 0, 0, 0, 0, 0, 0, 0, 0, 0],  # C\n",
    "    [0, 0, 0, 0, 0, 0, 0, 1, 0, 0, 0, 0],  # G\n",
    "    [0, 0, 0, 0, 1, 0, 0, 0, 0, 0, 0, 0],  # Am\n",
    "    [0, 0, 0, 0, 0, 0, 1, 0, 0, 0, 0, 0]   # F\n",
    "])\n",
    "\n",
    "# Ajustar longitud\n",
    "data[\"chord\"][:len(new_chord_progression)] = new_chord_progression\n",
    "\n",
    "print(\"🎶 Nueva progresión de acordes aplicada al .pkl\")\n"
   ]
  },
  {
   "cell_type": "code",
   "execution_count": 5,
   "metadata": {},
   "outputs": [],
   "source": [
    "# 🧩 3️⃣ Convertir a tensores para la inferencia\n",
    "device = \"cuda\" if torch.cuda.is_available() else \"cpu\"\n",
    "\n",
    "chord_dense = data[\"chord\"].toarray() if hasattr(data[\"chord\"], \"toarray\") else data[\"chord\"]\n",
    "chord_tensor = torch.tensor(chord_dense, dtype=torch.float32).unsqueeze(0).to(device)\n",
    "prime_pitch = torch.tensor(data[\"pitch\"], dtype=torch.long).unsqueeze(0).to(device)\n",
    "prime_rhythm = torch.tensor(data[\"rhythm\"], dtype=torch.long).unsqueeze(0).to(device)"
   ]
  },
  {
   "cell_type": "code",
   "execution_count": 6,
   "metadata": {},
   "outputs": [
    {
     "name": "stderr",
     "output_type": "stream",
     "text": [
      "/tmp/ipykernel_217214/3931939090.py:19: FutureWarning: You are using `torch.load` with `weights_only=False` (the current default value), which uses the default pickle module implicitly. It is possible to construct malicious pickle data which will execute arbitrary code during unpickling (See https://github.com/pytorch/pytorch/blob/main/SECURITY.md#untrusted-models for more details). In a future release, the default value for `weights_only` will be flipped to `True`. This limits the functions that could be executed during unpickling. Arbitrary objects will no longer be allowed to be loaded via this mode unless they are explicitly allowlisted by the user via `torch.serialization.add_safe_globals`. We recommend you start setting `weights_only=True` for any use case where you don't have full control of the loaded file. Please open an issue on GitHub for any issues related to this experimental feature.\n",
      "  checkpoint = torch.load(CHECKPOINT_PATH, map_location=device)\n"
     ]
    },
    {
     "name": "stdout",
     "output_type": "stream",
     "text": [
      "⚠️ Ajustando la longitud: prime_rhythm (129) > max_len (128)\n",
      "✅ Longitud final de prime_rhythm: 128\n",
      "🎼 Melodía generada con éxito!\n"
     ]
    }
   ],
   "source": [
    "# 📥 4️⃣ Realizar la inferencia con el modelo\n",
    "CHECKPOINT_PATH = \"/home/cepatinog/smc-assignments/final_project/my_jazz_project/results/idx002/model/checkpoint_60.pth.tar\"  # Ajusta el path\n",
    "model_config = {\n",
    "    \"num_pitch\": 50,\n",
    "    \"frame_per_bar\": 16,\n",
    "    \"num_bars\": 8,\n",
    "    \"chord_emb_size\": 128,\n",
    "    \"pitch_emb_size\": 256,\n",
    "    \"hidden_dim\": 512,\n",
    "    \"key_dim\": 512,\n",
    "    \"value_dim\": 512,\n",
    "    \"input_dropout\": 0.2,\n",
    "    \"layer_dropout\": 0.2,\n",
    "    \"attention_dropout\": 0.2,\n",
    "    \"num_layers\": 8,\n",
    "    \"num_heads\": 16\n",
    "}\n",
    "\n",
    "checkpoint = torch.load(CHECKPOINT_PATH, map_location=device)\n",
    "model = ChordConditionedMelodyTransformer(**model_config).to(device)\n",
    "model.load_state_dict(checkpoint[\"model\"])\n",
    "model.eval()\n",
    "\n",
    "\n",
    "# Verificar la longitud de prime_rhythm\n",
    "max_len = model.max_len  # Tomamos el max_len del modelo\n",
    "\n",
    "if prime_rhythm.size(1) > max_len:\n",
    "    print(f\"⚠️ Ajustando la longitud: prime_rhythm ({prime_rhythm.size(1)}) > max_len ({max_len})\")\n",
    "    prime_rhythm = prime_rhythm[:, :max_len]\n",
    "    prime_pitch = prime_pitch[:, :max_len]\n",
    "elif prime_rhythm.size(1) < max_len:\n",
    "    pad_length = max_len - prime_rhythm.size(1)\n",
    "    print(f\"ℹ️ Padding: Agregando {pad_length} ceros a prime_rhythm y prime_pitch\")\n",
    "    pad_rhythm = torch.zeros([1, pad_length], dtype=torch.long).to(prime_rhythm.device)\n",
    "    pad_pitch = torch.ones([1, pad_length], dtype=torch.long).to(prime_pitch.device) * (model.num_pitch - 1)\n",
    "\n",
    "    prime_rhythm = torch.cat([prime_rhythm, pad_rhythm], dim=1)\n",
    "    prime_pitch = torch.cat([prime_pitch, pad_pitch], dim=1)\n",
    "\n",
    "print(f\"✅ Longitud final de prime_rhythm: {prime_rhythm.size(1)}\")\n",
    "\n",
    "with torch.no_grad():\n",
    "    generated = model.sampling(prime_rhythm, prime_pitch, chord_tensor, topk=5)\n",
    "\n",
    "pitch_out = generated[\"pitch\"].cpu().numpy()\n",
    "rhythm_out = generated[\"rhythm\"].cpu().numpy()\n",
    "\n",
    "print(\"🎼 Melodía generada con éxito!\")"
   ]
  },
  {
   "cell_type": "code",
   "execution_count": null,
   "metadata": {},
   "outputs": [],
   "source": []
  },
  {
   "cell_type": "code",
   "execution_count": 8,
   "metadata": {},
   "outputs": [
    {
     "name": "stdout",
     "output_type": "stream",
     "text": [
      "[[49 49 49 49 49 15 17 48 20 19 17 16 15 13 48 13 15 48 12 13 15 48 48 48\n",
      "  49 49 49 49 49 49 49 49 12 19 48 17 14 10 12 48 49 49 49 49 49 49 49 49\n",
      "  49 49 49 49 13 17 25 27 26 25 24 22 21 20 19 18 17 16 48 15 48 48 49 49\n",
      "  49 13 48 12 49 49 49 49 22 18 15 48 20 48 16 20 24 27 48 25 48 48 48 48\n",
      "  30 48 28 23 27 25 48 49 49 49 49 22 24 48 27 25 24 22 21 48 15 48 17 19\n",
      "  18 17 15 14 17 20 24 18]]\n",
      "[[0 0 0 0 0 2 2 1 2 2 2 2 2 2 1 2 2 1 2 2 2 1 1 1 0 0 0 0 0 0 0 0 2 2 1 2\n",
      "  2 2 2 1 0 0 0 0 0 0 0 0 0 0 0 0 2 2 2 2 2 2 2 2 2 2 2 2 2 2 1 2 1 1 0 0\n",
      "  0 2 1 2 0 0 0 0 2 2 2 1 2 1 2 2 2 2 1 2 1 1 1 1 2 1 2 2 2 2 1 0 0 0 0 2\n",
      "  2 1 2 2 2 2 2 1 2 1 2 2 2 2 2 2 2 2 2 2]]\n"
     ]
    }
   ],
   "source": [
    "print(pitch_out)\n",
    "print(rhythm_out)"
   ]
  }
 ],
 "metadata": {
  "kernelspec": {
   "display_name": "cmt_env",
   "language": "python",
   "name": "python3"
  },
  "language_info": {
   "codemirror_mode": {
    "name": "ipython",
    "version": 3
   },
   "file_extension": ".py",
   "mimetype": "text/x-python",
   "name": "python",
   "nbconvert_exporter": "python",
   "pygments_lexer": "ipython3",
   "version": "3.10.16"
  }
 },
 "nbformat": 4,
 "nbformat_minor": 2
}
